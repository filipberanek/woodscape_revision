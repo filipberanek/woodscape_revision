{
 "cells": [
  {
   "cell_type": "markdown",
   "metadata": {},
   "source": [
    "# Basic statistics of images"
   ]
  },
  {
   "cell_type": "markdown",
   "metadata": {},
   "source": [
    "### Import libraries"
   ]
  },
  {
   "cell_type": "code",
   "execution_count": null,
   "metadata": {},
   "outputs": [],
   "source": [
    "import pathlib\n",
    "\n",
    "import numpy as np\n",
    "import pandas as pd\n",
    "from PIL import Image\n",
    "import cv2\n",
    "import tqdm\n",
    "import matplotlib.pyplot as plt\n",
    "import seaborn as sns\n",
    "sns.set_theme()\n",
    "sns.set_context(\"talk\", font_scale=1.0, rc={\"font.family\": \"serif\", \"font.serif\": [\"Computer Modern Serif\"]})\n",
    "import warnings\n",
    "warnings.filterwarnings('ignore')\n"
   ]
  },
  {
   "cell_type": "code",
   "execution_count": null,
   "metadata": {},
   "outputs": [],
   "source": [
    "image_input_path = pathlib.Path(r\"/home/fberanek/Desktop/datasets/segmentation/semantic/soiling_dataset/All/rgbImages\")\n",
    "fig_size = (10,6)"
   ]
  },
  {
   "cell_type": "markdown",
   "metadata": {},
   "source": [
    "### Get histograms of images"
   ]
  },
  {
   "cell_type": "code",
   "execution_count": null,
   "metadata": {},
   "outputs": [],
   "source": [
    "def update_histogram(img_):\n",
    "    np_hist = np.zeros((256,3))\n",
    "    # For each channel calculate histogram.\n",
    "    for channel in range(3):\n",
    "        np_hist[:,channel] = cv2.calcHist([img_],[channel],None,[256],[0,256]).reshape(-1)\n",
    "    return np_hist"
   ]
  },
  {
   "cell_type": "code",
   "execution_count": null,
   "metadata": {},
   "outputs": [],
   "source": [
    "def get_color_stats(np_hist_):\n",
    "    output_dict = {}\n",
    "    for channel, channel_name in zip(range(3), [\"blue\", \"green\", \"red\"]):\n",
    "        # Convert chanel series into pandas array\n",
    "        df = pd.DataFrame(np_hist_[:,channel]).reset_index()\n",
    "        df.rename(columns={\"index\":\"color_index\",0:\"counts\"}, inplace = True)\n",
    "        # Shift color indexes\n",
    "        df[\"color_index\"] +=1\n",
    "        # Calculate mean on RGB scale\n",
    "        df[\"multiplication\"] = df[\"color_index\"] * df[\"counts\"]\n",
    "        mean = df[\"multiplication\"].sum() / df[\"counts\"].sum()\n",
    "        # Calculate standard deviation on RGB scale\n",
    "        std = ((((df[\"color_index\"]-mean)**2)*df[\"multiplication\"]).sum()/df[\"multiplication\"].sum())**(1/2)\n",
    "        # Add it into dict\n",
    "        output_dict[f\"{channel_name}_mean\"] = mean\n",
    "        output_dict[f\"{channel_name}_std\"] = std\n",
    "    return output_dict"
   ]
  },
  {
   "cell_type": "code",
   "execution_count": null,
   "metadata": {},
   "outputs": [],
   "source": [
    "np_hist = np.zeros((256,3))\n",
    "all_stats_records = []\n",
    "for file_id , file in tqdm.tqdm(enumerate(image_input_path.rglob(\"*.png\"))):\n",
    "    img = cv2.imread(str(file), cv2.IMREAD_COLOR) #returns BGR (Blue-Green-Red)\n",
    "    np_hist += update_histogram(img)\n",
    "    color_stats_record = get_color_stats(np_hist)\n",
    "    color_stats_record[\"filename\"] = file.stem\n",
    "    color_stats_record[\"histogram\"] = np_hist\n",
    "    all_stats_records.append(color_stats_record)"
   ]
  },
  {
   "cell_type": "code",
   "execution_count": null,
   "metadata": {},
   "outputs": [],
   "source": [
    "plt.figure(figsize =fig_size)\n",
    "for channel, channel_name in zip(range(3), [\"blue\", \"green\", \"red\"]):\n",
    "    plt.plot(np_hist[:,channel], label=channel_name, color = channel_name)\n",
    "plt.title('Image histogram for RGB')\n",
    "plt.legend()\n",
    "plt.show()"
   ]
  },
  {
   "cell_type": "code",
   "execution_count": null,
   "metadata": {},
   "outputs": [],
   "source": [
    "plt.figure(figsize =fig_size)\n",
    "for channel, channel_name in zip(range(3), [\"blue\", \"green\", \"red\"]):\n",
    "    plt.plot(np_hist[1:,channel], label=channel_name, color = channel_name)\n",
    "plt.title('Image histogram for RGB with removed 0 on rgb scale')\n",
    "plt.legend()\n",
    "plt.show()"
   ]
  },
  {
   "cell_type": "code",
   "execution_count": null,
   "metadata": {},
   "outputs": [],
   "source": [
    "plt.figure(figsize =fig_size)\n",
    "for channel, channel_name in zip(range(3), [\"blue\", \"green\", \"red\"]):\n",
    "    plt.plot(np_hist[1:-1,channel], label=channel_name, color = channel_name)\n",
    "plt.title('Image histogram for RGB with removed 0 and -1 on rgb scale')\n",
    "plt.xlabel(\"Range of RGB 0-256\")\n",
    "plt.ylabel(\"Frequency\")\n",
    "plt.legend()\n",
    "plt.show()"
   ]
  },
  {
   "cell_type": "code",
   "execution_count": null,
   "metadata": {},
   "outputs": [],
   "source": [
    "fig_size"
   ]
  },
  {
   "cell_type": "code",
   "execution_count": null,
   "metadata": {},
   "outputs": [],
   "source": [
    "range(0,len(np_hist))"
   ]
  },
  {
   "cell_type": "code",
   "execution_count": null,
   "metadata": {},
   "outputs": [],
   "source": [
    "fig, ax = plt.subplots(2,1,figsize =(10,10),squeeze=True)\n",
    "for channel, channel_name in zip(range(3), [\"blue\", \"green\", \"red\"]):\n",
    "    ax[0].plot(range(0,len(np_hist)),np_hist[:,channel]/1000000, label=channel_name, color = channel_name)\n",
    "#ax[0].title('Image histogram for RGB')\n",
    "#ax[0].set_title(\"test\")\n",
    "ax[0].set_xlabel(\"Range of RGB 0-256\")\n",
    "ax[0].set_ylabel(\"Frequency in milion of pixels\")\n",
    "ax[0].set_title('RGB Histogram of images') \n",
    "ax[0].legend()\n",
    "for channel, channel_name in zip(range(3), [\"blue\", \"green\", \"red\"]):\n",
    "    ax[1].plot(range(1,255),np_hist[1:-1,channel]/1000000, label=channel_name, color = channel_name)\n",
    "ax[1].set_xlabel(\"Range of RGB 1-255\")\n",
    "ax[1].set_ylabel(\"Frequency in milion of pixels\")\n",
    "ax[1].set_title('RGB Histogram removed 0 and 255 of of RGB spectrum') \n",
    "ax[1].legend()\n",
    "fig.tight_layout()\n",
    "plt.savefig(\"color_histogram.png\")\n",
    "plt.show()"
   ]
  },
  {
   "cell_type": "markdown",
   "metadata": {},
   "source": [
    "### Get statistics of labels"
   ]
  },
  {
   "cell_type": "code",
   "execution_count": null,
   "metadata": {},
   "outputs": [],
   "source": [
    "labels_input_path = pathlib.Path(r\"/home/fberanek/Desktop/datasets/segmentation/semantic/soiling_dataset/All/gtLabels\")"
   ]
  },
  {
   "cell_type": "code",
   "execution_count": null,
   "metadata": {},
   "outputs": [],
   "source": [
    "np_hist = np.zeros((256,3))\n",
    "# Dataframe of overall stats\n",
    "df = pd.DataFrame({\n",
    "\"Label ID\":[0,1,2,3],\n",
    "\"Label name\":[\"Clear\", \"Transparent\", \"Semi_transparent\", \"Opaque\"],\n",
    "\"Label pixel number\":[0,0,0,0]\n",
    "})\n",
    "# Dataframe for image stats\n",
    "df_per_image = pd.DataFrame(columns= [\"Filename\", \"Clear\", \"Transparent\", \"Semi_transparent\", \"Opaque\"])\n",
    "for file_id , file in tqdm.tqdm(enumerate(labels_input_path.rglob(\"*.png\"))):\n",
    "    lbl = np.array(Image.open(file)) #returns BGR (Blue-Green-Red)\n",
    "    values, counts = np.unique(lbl, return_counts=True)\n",
    "    clear = 0\n",
    "    transparent = 0\n",
    "    semitransparent = 0\n",
    "    opaque = 0\n",
    "    for value, count in zip(values, counts):\n",
    "        df.loc[df[\"Label ID\"]==value,\"Label pixel number\"] += count\n",
    "        if value == 0:\n",
    "            clear = count\n",
    "        elif value == 1:\n",
    "            transparent = count\n",
    "        elif value == 2:\n",
    "            semitransparent = count\n",
    "        elif value == 3:\n",
    "            opaque = count\n",
    "    one_record = pd.DataFrame.from_dict([{\n",
    "            \"Filename\":file.stem,\n",
    "            \"Clear\":clear, \n",
    "            \"Transparent\":transparent, \n",
    "            \"Semi_transparent\":semitransparent, \n",
    "            \"Opaque\":opaque\n",
    "        }])\n",
    "    df_per_image = pd.concat([df_per_image, one_record])"
   ]
  },
  {
   "cell_type": "code",
   "execution_count": null,
   "metadata": {},
   "outputs": [],
   "source": [
    "df_per_image.set_index(\"Filename\", inplace=True)\n",
    "df_per_image[\"Total_number_of_pixel\"] = df_per_image.sum(axis = 1)"
   ]
  },
  {
   "cell_type": "code",
   "execution_count": null,
   "metadata": {},
   "outputs": [],
   "source": [
    "list_of_column_names = [\"Clear\", \"Transparent\", \"Semi_transparent\", \"Opaque\"]\n",
    "for column in list_of_column_names:\n",
    "    print(f\"We are processing occlusion level of {column}\")\n",
    "    df_per_image[f\"{column}_relative\"] = df_per_image[column]/df_per_image[\"Total_number_of_pixel\"]\n",
    "    bins = pd.interval_range(0,1,10)\n",
    "    distribution = pd.cut(df_per_image['Clear_relative'], bins).value_counts()\n",
    "    print(f\"Distribution of occlusion level {column} is {distribution}\")\n",
    "    plt.figure(figsize=fig_size)\n",
    "    plt.hist(df_per_image[f\"{column}_relative\"])\n",
    "    plt.xlabel(\"Percentage of of image covered in bin\")\n",
    "    plt.ylabel(\"Frequency\")\n",
    "    plt.title(f\"Distribution of image occlusion '{column}' coverage\")\n",
    "    plt.show()"
   ]
  },
  {
   "cell_type": "code",
   "execution_count": null,
   "metadata": {},
   "outputs": [],
   "source": [
    "list_of_column_names = [\"Clear\", \"Transparent\", \"Semi_transparent\", \"Opaque\"]\n",
    "plt.figure(figsize=fig_size)\n",
    "plt.hist([df_per_image[\"Clear_relative\"], \n",
    "          df_per_image[\"Transparent_relative\"],\n",
    "          df_per_image[\"Semi_transparent_relative\"], \n",
    "          df_per_image[\"Opaque_relative\"]], label = [\n",
    "              \"Clear\", \n",
    "               \"Transparent\", \n",
    "               \"Semi Transparent\", \n",
    "               \"Opaque\"\n",
    "          ])\n",
    "plt.xlabel(\"Percentage of of image covered in bin\")\n",
    "plt.ylabel(\"Frequency\")\n",
    "plt.title(f\"Distribution of image occlusions types coverage\")\n",
    "plt.legend()\n",
    "plt.savefig(\"labels_distribution\")\n",
    "plt.show()"
   ]
  },
  {
   "cell_type": "code",
   "execution_count": null,
   "metadata": {},
   "outputs": [],
   "source": [
    "list_of_occlusion_column_names = [\"Transparent\", \"Semi_transparent\", \"Opaque\"]"
   ]
  },
  {
   "cell_type": "code",
   "execution_count": null,
   "metadata": {},
   "outputs": [],
   "source": [
    "df_per_image[\"total_occlusion\"] = df_per_image[list_of_occlusion_column_names].sum(axis=1)\n",
    "df_per_image[\"total_occlusion_ration\"] = df_per_image[\"total_occlusion\"] / df_per_image[\"Total_number_of_pixel\"]"
   ]
  },
  {
   "cell_type": "code",
   "execution_count": null,
   "metadata": {},
   "outputs": [],
   "source": [
    "df_per_image"
   ]
  },
  {
   "cell_type": "code",
   "execution_count": null,
   "metadata": {},
   "outputs": [],
   "source": [
    "plt.figure(figsize=fig_size)\n",
    "plt.hist(df_per_image[\"total_occlusion_ration\"])\n",
    "plt.xlabel(\"Percentage of of image covered in bin\")\n",
    "plt.ylabel(\"Frequency\")\n",
    "plt.title(f\"Distribution of any occlusion coverage\")\n",
    "plt.savefig(\"distribution_of_oclusion.png\")\n",
    "plt.show()"
   ]
  },
  {
   "cell_type": "code",
   "execution_count": null,
   "metadata": {},
   "outputs": [],
   "source": []
  }
 ],
 "metadata": {
  "kernelspec": {
   "display_name": "venv",
   "language": "python",
   "name": "python3"
  },
  "language_info": {
   "codemirror_mode": {
    "name": "ipython",
    "version": 3
   },
   "file_extension": ".py",
   "mimetype": "text/x-python",
   "name": "python",
   "nbconvert_exporter": "python",
   "pygments_lexer": "ipython3",
   "version": "3.10.12"
  }
 },
 "nbformat": 4,
 "nbformat_minor": 2
}
